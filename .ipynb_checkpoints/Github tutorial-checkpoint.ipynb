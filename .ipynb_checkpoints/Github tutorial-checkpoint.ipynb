{
 "cells": [
  {
   "cell_type": "markdown",
   "metadata": {},
   "source": [
    "<h1><center>Tutorial on Github</center></h1>"
   ]
  },
  {
   "cell_type": "markdown",
   "metadata": {},
   "source": [
    "<h2 > Version Control System </h2>\n",
    "\n",
    "A version control systems is a system of managing multiple versions of some piece of information - e.g. code or document files. It is useful when working in a team or simply when editing one's own code (to keep a track of changes made and go back to previous version if the new changes don't work). Version control system saves the screenshots of files (shown in Figure below as v1, v2..) and we can go back the last saved files we want to go to. It uses an efficient algorithm to store information in these screenshots. The link indicates how they are connected (backward arrow as we can always move back in the code history). The main branch (which we tart when we first create the repository) is called master branch. \n",
    "\n",
    "\n",
    "If multiple members of a team are working, they can create feature branch (from the main branch and keep on working on the feature branch -- e.g. writing new functions). After they are done with the feature branch, they can merge it with the main branch.\n",
    "\n",
    "All the team members can get a copy of the repository and they can have the files in their local computer and work on it using in their own computer. Later they can push it to the main repository (central repository).\n",
    "<img src=\"figures/Vcs.jpg\" width=\"500\">"
   ]
  },
  {
   "cell_type": "markdown",
   "metadata": {},
   "source": [
    "<h2 > Git and Github </h2>\n",
    "\n",
    "Github is a repository hosting service provided by github.inc -- Most popular git hosting service. Git is a de-centralized or distributed <u>version control system</u>. Because of decentralization, it super-fast. Git is most common version control system. All the files are stored in repository. It is a good practice to keep separate repository for different applications (make it modular styled). For example, building an application for an app, keep a separate repository for chat section and a separate one for the image section. Git repository consists of all the files along with the history of the file. "
   ]
  },
  {
   "cell_type": "markdown",
   "metadata": {},
   "source": [
    "<b>Repository</b> is a collection of files and the history of all the files. Just the collection of files is called workspace.\n",
    "\n",
    "<b>Commit</b> is a snapshot of the changes (contains the description of the changes, timestamp) in a repository. Commit saves the current version (or a historical version as shown in the figure). All these commits (changes) are stored in a timeline and the main timeline is called Master branch."
   ]
  },
  {
   "cell_type": "markdown",
   "metadata": {},
   "source": [
    "<h3> Installation on System </h3>\n",
    "\n",
    "Download git from the website at https://git-scm.com/download/win. <br>\n",
    "Install the latest version, can keep everything default. We can create the repository first in the online github (remote github). Use the link and clone the repository in our local computer to create a local repository (using git bash). The other method is use the following commands on the git bash:\n",
    "\n",
    "We want to always use our user name and email: \n",
    "1. git init (initializes the repository)\n",
    "2. git config --global user.name \"username\"\n",
    "3. git config --global user.email \"emailid\""
   ]
  },
  {
   "cell_type": "markdown",
   "metadata": {},
   "source": [
    "<h3>3 stages in github repository for files</h3>\n",
    "\n",
    "The first stage is workspace (where the files are stored in their current form). The third stage is repository stage (where it also contains the knowledge of the history). The second stage is the staging area which is in between workspace and repository (stage when we do add. operation)."
   ]
  },
  {
   "cell_type": "markdown",
   "metadata": {},
   "source": [
    "<h3>Basic commands</h3>\n",
    "\n",
    "- git status: checks which files are added/removed/edited\n",
    "- git add . : accept all changes and update the files (puts the files in the staging area): can be done for individual files\n",
    "- git commit -m \" message\" : commit to the changes (screenshots of the files and write a message to know what we did)\n",
    "- git push : to push the files into the main repository (online)\n",
    "\n",
    "- ls: gives the names of the files in the repository\n",
    "- cd .git : takes us to a git folder (the end of the command prompt changes from (master) to (GIT_DIR!)\n",
    "- cd.. : takes us out of the git repository\n",
    "\n",
    "To bring a new folder into the git, go to folder, open git bash there and add - git init . command to add .git folder in that folder. This makes git understand that it is a git folder and it will behave accordingly. We can see (master) at the start to see if we are actually in git folder or not.\n"
   ]
  },
  {
   "cell_type": "markdown",
   "metadata": {},
   "source": [
    "<h2>Commit history and git log</h2>"
   ]
  },
  {
   "cell_type": "markdown",
   "metadata": {},
   "source": [
    "git log: gives the log of all the changes made in the files. it provides information on who made the changes, when were the changes made and also the commit id. it also shows the messages when performing the commit operation. \n",
    "\n",
    "git show: shows the changes made in the last commit. Press q to get out of the show command.\n",
    "\n",
    "git commit -am \"message\" : it is a combination of .add and m command"
   ]
  },
  {
   "cell_type": "markdown",
   "metadata": {},
   "source": [
    "<h2>Backing out some of the changes to go back to working file</h2>\n",
    "\n",
    "<ul>\n",
    "    <li>Case 1: whan we have made the changes and used git add . but not done git commit -- in this case use git reset HEAD filename to move the changes away from the staging area. But the file is still changed and just not staged. To remove the unwanted changes, we have to revert back. Use git checkout --filename to reset it back to its previous acceptable form. Doing this will remove the changes from the file.</li> \n",
    "    <li>git help log: shows the all the options we have for the log.</li>\n",
    "</ul>"
   ]
  },
  {
   "cell_type": "markdown",
   "metadata": {},
   "source": [
    "<h2>Other commands</h2>\n",
    "\n",
    "git mv oldfilename newfilename: changes the name of the file we want to change and we dont need to do it in the system. NOte that this is still in the staging area and we need to commit to actually change it. <br>\n",
    "\n",
    "git rm filename: removes the file name. Again, this is staged and not actually deleted."
   ]
  },
  {
   "cell_type": "markdown",
   "metadata": {},
   "source": [
    "<h2>connecting to github</h2>\n",
    "\n",
    "We first create a repository in the github and use git clone to copy that repository. But we need to build a connection between local directory and remote repository. It can be done by git push -u origin master --tags command. origin is the name of the path in the local directory. We are making the changes as the master branch (so we have kept that name). After this, we will be prompted by verification (email and password) and once this connection is set up, no need to do it again and thus we dont need a u origin master command next time ever."
   ]
  },
  {
   "cell_type": "markdown",
   "metadata": {},
   "source": [
    "<h1>Advanced</h1>"
   ]
  },
  {
   "cell_type": "markdown",
   "metadata": {},
   "source": [
    "<h3> comparing the differences </h3>\n",
    "\n",
    "git diff: tells the difference between the last two commits. git help diff provides all the options available. git help difftool helps to visualize the differences using a visualization tool e.g. p4merge. The difference is between the current commit and changes not yet in the staging area. Pressing q moves us out."
   ]
  },
  {
   "cell_type": "markdown",
   "metadata": {},
   "source": [
    "<h3> Branching the Repository </h3>\n",
    "\n",
    "Currently, we have been doing all the work in the master branch. We can create a new branch and later rejoin the master branch (merge). \n",
    "\n",
    "<ul>\n",
    "    <li>git branch: gives the name of the branch</li>\n",
    "    <li>git checkout -b branchname: creates a new branch called branchname and transfer all the information from the master branch to the new branch</li>\n",
    "    <li>git checkout master: to merge the files, we first need to move to the master branch</li>\n",
    "    <li>git merge branchname: merges the branchname to the master</li>\n",
    "</ul>"
   ]
  },
  {
   "cell_type": "markdown",
   "metadata": {},
   "source": [
    "<h3> Merging the branches</h3>\n",
    "\n",
    "Once a feature is completed, it can be merged with the master branch. For merging, we have to be in the master branch.\n",
    "HEAD points to the last commit, when merging is done, head points to both master and branch. \n",
    "\n",
    "git branch -a: shows all the branches\n",
    "git merge branchname: merges the branchname with the master branch (we have to start at the master branch for merging). "
   ]
  },
  {
   "cell_type": "markdown",
   "metadata": {},
   "source": [
    "<h3> conflict resolution</h3>\n",
    "\n",
    "conflict arises when same part of the text/code is changed both in the main branch as well as the new branch. Auto merge doesnt know which branch (part of the text is correct). In this case, it cannot resolve the conflicts."
   ]
  },
  {
   "cell_type": "markdown",
   "metadata": {},
   "source": [
    "<h3> Cloning and working with existing repository</h3>\n",
    "\n",
    "We can only clone the folders of an existing public repository. And then we can work on this on local and reproduce results.\n",
    "\n",
    "25. git clone https://github.com/ashutoshnayakIE/myAppSample.git (link at the top right of the repository when cloning). Git clone is used once when we download (clone) the repository we would like to clone. It does not update the existing repository\n",
    "26. git pull (The git pull command is used to fetch and download content from a remote repository and immediately update the local repository to match that content). Git Pull is used to update the current local repository (we use it more when working in a team)"
   ]
  },
  {
   "cell_type": "markdown",
   "metadata": {},
   "source": [
    "<h1><center>Tips on Using Jupyter notebook</center></h1>"
   ]
  },
  {
   "cell_type": "markdown",
   "metadata": {},
   "source": [
    " Keyboard shortcuts: \n",
    "<ul>\n",
    "    <li> Switching to text: Ecs then M then Enter </li>\n",
    "    <li> Adding line number to the code: Ctrl+m then L (or do it by selecting nbExtensions)</li>\n",
    "</ul>"
   ]
  },
  {
   "cell_type": "markdown",
   "metadata": {},
   "source": [
    "collapsing cells in jupyter notebook\n",
    "\n"
   ]
  },
  {
   "cell_type": "markdown",
   "metadata": {},
   "source": [
    "Changing the jupyter notebook theme:\n",
    "1. pip install jupyterthemes (installs themes)\n",
    "2. jt -l (list of themes)\n",
    "3. jt-t nameOfTheme (changes to this theme)"
   ]
  },
  {
   "cell_type": "markdown",
   "metadata": {},
   "source": [
    "Magic: cells that start with % are called magic cells.\n",
    "\n",
    "1. %lsmagic (throws the list of all the cells)\n",
    "2. %%dot helps in making graphs\n",
    "3. more here https://www.youtube.com/watch?v=zxkdO07L29Q"
   ]
  }
 ],
 "metadata": {
  "hide_input": false,
  "kernelspec": {
   "display_name": "Python 3",
   "language": "python",
   "name": "python3"
  },
  "language_info": {
   "codemirror_mode": {
    "name": "ipython",
    "version": 3
   },
   "file_extension": ".py",
   "mimetype": "text/x-python",
   "name": "python",
   "nbconvert_exporter": "python",
   "pygments_lexer": "ipython3",
   "version": "3.7.3"
  },
  "toc": {
   "base_numbering": 1,
   "nav_menu": {},
   "number_sections": true,
   "sideBar": true,
   "skip_h1_title": true,
   "title_cell": "Table of Contents",
   "title_sidebar": "Contents",
   "toc_cell": false,
   "toc_position": {
    "height": "calc(100% - 180px)",
    "left": "10px",
    "top": "150px",
    "width": "384px"
   },
   "toc_section_display": true,
   "toc_window_display": true
  },
  "varInspector": {
   "cols": {
    "lenName": 16,
    "lenType": 16,
    "lenVar": 40
   },
   "kernels_config": {
    "python": {
     "delete_cmd_postfix": "",
     "delete_cmd_prefix": "del ",
     "library": "var_list.py",
     "varRefreshCmd": "print(var_dic_list())"
    },
    "r": {
     "delete_cmd_postfix": ") ",
     "delete_cmd_prefix": "rm(",
     "library": "var_list.r",
     "varRefreshCmd": "cat(var_dic_list()) "
    }
   },
   "types_to_exclude": [
    "module",
    "function",
    "builtin_function_or_method",
    "instance",
    "_Feature"
   ],
   "window_display": false
  }
 },
 "nbformat": 4,
 "nbformat_minor": 2
}
