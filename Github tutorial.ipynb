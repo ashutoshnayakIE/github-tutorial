{
 "cells": [
  {
   "cell_type": "markdown",
   "metadata": {},
   "source": [
    "<h1><center>Tutorial on Github</center></h1>"
   ]
  },
  {
   "cell_type": "markdown",
   "metadata": {},
   "source": [
    "<h2 > Version Control System </h2>\n",
    "\n",
    "A version control systems is a system of managing multiple versions of some piece of information - e.g. code or document files. It is useful when working in a team or simply when editing one's own code (to keep a track of changes made and go back to previous version if the new changes don't work). Version control system saves the screenshots of files (shown in Figure below as v1, v2..) and we can go back the last saved files we want to go to. It uses an efficient algorithm to store information in these screenshots. The link indicates how they are connected (backward arrow as we can always move back in the code history). The main branch (which we tart when we first create the repository) is called master branch. \n",
    "\n",
    "\n",
    "If multiple members of a team are working, they can create feature branch (from the main branch and keep on working on the feature branch -- e.g. writing new functions). After they are done with the feature branch, they can merge it with the main branch.\n",
    "\n",
    "All the team members can get a copy of the repository and they can have the files in their local computer and work on it using in their own computer. Later they can push it to the main repository (central repository).\n",
    "<img src=\"figures/Vcs.jpg\" width=\"500\">"
   ]
  },
  {
   "cell_type": "markdown",
   "metadata": {},
   "source": [
    "<h2 > Git and Github </h2>\n",
    "\n",
    "Github is a repository hosting service provided by github.inc -- Most popular git hosting service. Git is a de-centralized or distributed <u>version control system</u>. Because of decentralization, it super-fast. Git is most common version control system. All the files are stored in repository. It is a good practice to keep separate repository for different applications (make it modular styled). For example, building an application for an app, keep a separate repository for chat section and a separate one for the image section. Git repository consists of all the files along with the history of the file. "
   ]
  },
  {
   "cell_type": "markdown",
   "metadata": {},
   "source": [
    "<b>Repository</b> is a collection of files and the history of all the files. Just the collection of files is called workspace.\n",
    "\n",
    "<b>Commit</b> is a snapshot of the changes (contains the description of the changes, timestamp) in a repository. Commit saves the current version (or a historical version as shown in the figure). All these commits (changes) are stored in a timeline and the main timeline is called Master branch."
   ]
  },
  {
   "cell_type": "markdown",
   "metadata": {},
   "source": [
    "<h3> Installation on System </h3>\n",
    "\n",
    "Download git from the website at https://git-scm.com/download/win. <br>\n",
    "Install the latest version, can keep everything default. We can create the repository first in the online github (remote github). Use the link and clone the repository in our local computer to create a local repository (using git bash). The other method is use the following commands on the git bash:\n",
    "\n",
    "We want to always use our user name and email: \n",
    "1. git init (initializes the repository)\n",
    "2. git config --global user.name \"username\"\n",
    "3. git config --global user.email \"emailid\""
   ]
  },
  {
   "cell_type": "markdown",
   "metadata": {},
   "source": [
    "<h3>3 stages in github repository for files</h3>\n",
    "\n",
    "The first stage is workspace (where the files are stored in their current form). The third stage is repository stage (where it also contains the knowledge of the history). The second stage is the staging area which is in between workspace and repository (stage when we do add. operation)."
   ]
  },
  {
   "cell_type": "markdown",
   "metadata": {},
   "source": [
    "<h3>Basic commands</h3>\n",
    "\n",
    "- git status: checks which files are added/removed/edited\n",
    "- git add . : accept all changes and update the files (puts the files in the staging area): can be done for individual files\n",
    "- git commit -m \" message\" : commit to the changes (screenshots of the files and write a message to know what we did)\n",
    "- git push : to push the files into the main repository (online)\n",
    "\n",
    "- ls: gives the names of the files in the repository\n",
    "- cd .git : takes us to a git folder (the end of the command prompt changes from (master) to (GIT_DIR!)\n",
    "- cd.. : takes us out of the git repository\n",
    "\n",
    "To bring a new folder into the git, go to folder, open git bash there and add - git init . command to add .git folder in that folder. This makes git understand that it is a git folder and it will behave accordingly. We can see (master) at the start to see if we are actually in git folder or not.\n"
   ]
  },
  {
   "cell_type": "markdown",
   "metadata": {},
   "source": [
    "<h2>Commit history and git log</h2>"
   ]
  },
  {
   "cell_type": "markdown",
   "metadata": {},
   "source": [
    "git log: gives the log of all the changes made in the files. it provides information on who made the changes, when were the changes made and also the commit id. it also shows the messages when performing the commit operation. \n",
    "\n",
    "git show: shows the changes made in the last commit. Press q to get out of the show command.\n",
    "\n",
    "git commit -am \"message\" : it is a combination of .add and m command"
   ]
  },
  {
   "cell_type": "markdown",
   "metadata": {},
   "source": [
    "<h1>Tutorial</h1>"
   ]
  },
  {
   "cell_type": "markdown",
   "metadata": {},
   "source": [
    "<h2>Getting started</h2>\n",
    "\n",
    "Three stages of working in a git (all specific to local git repository):<br>\n",
    "1) working directory: contains all the files <br>\n",
    "2) staging area : area in between working directory and repository <br>\n",
    "3) main repository: contains all the history of the files (changes made) <br>\n",
    "\n",
    "4) finally, there is the remote repository stage where the files are uploaded.\n"
   ]
  },
  {
   "cell_type": "markdown",
   "metadata": {},
   "source": [
    "<h1>Basic Commands</h1>\n",
    "\n",
    "1) create a file: create a readme file: touch README.md\n",
    "2) open the file to edit the file in a text editor"
   ]
  },
  {
   "cell_type": "markdown",
   "metadata": {},
   "source": [
    "<h3> Working with files </h3>\n",
    "\n",
    "Adding the files to the repository:\n",
    "4. git add index.html  (shows that it is in the stage of being added, but not added yet)\n",
    "5. git status (shows the status of the files, it will show files untracked and tracked)\n",
    "6. git rm --cached index.html (removing the file from the staging area of commit, status will show that file is untracked)\n",
    "\n",
    "7. git add *.html (will add all the html files)\n",
    "8. git add .  (will add all the files to the staging area)\n",
    "\n",
    "\"clear\" command removes everything from the bash\n",
    "\n",
    "When all the files have been added, it is in the staging area. Any changes made here will be recorded for these files. On checking the status, it will show which files have been modified.\n",
    "\n",
    "9. git commit (it takes it to difficult to navigate and work with vim, pressing \"i\" helps in editing, \"#\" are comments, if you inside vim, uncomment the \"initial commit\" line, Exc to take us out of it and then \";wq\" to get back to git bash)\n",
    "10. it will show information on what was committed\n",
    "11. git commit -m 'made changes to file index.html\" (writing message does not take it to the vim stage)\n",
    "\n",
    "since git add . command all the files, we can use git ignore to ignore some of the files from adding to the repository.\n",
    "12. touch .gitignore (adding a new file named .gitignore, it will have all the file names we want to ignore)\n",
    "13. A new file will be created in the folder. Go the file named \".gitignore\" in your editor and type the name of the file you want to ignore.\n",
    "14. git add . (does not show the files we want to ignore but it does show the .gitignore file)\n",
    "15. if you have multiple files, put the name of every file in the next line in .gitignore file"
   ]
  },
  {
   "cell_type": "markdown",
   "metadata": {},
   "source": [
    "<h3> Branching the Repository </h3>\n",
    "\n",
    "This is the feature branch. Changes will not be committed to the master branch. This is used to add features.\n",
    "\n",
    "16. git branch login (create a new branch of the master)\n",
    "17. git checkout login (takes us to the branch, and away from the master branch)\n",
    "18. create a new file, touch login.html (this will create a file in the branch and not the master)\n",
    "19. Make all the changes we want in the branch. Commit the changes. When we switch to the master branch, all these changes would not be seen (event the new files would not be seen) a there was no change in the master branch."
   ]
  },
  {
   "cell_type": "markdown",
   "metadata": {},
   "source": [
    "<h3> Merging the branches</h3>\n",
    "\n",
    "Once a feature is completed, it can be merged with the master branch. For merging, we have to be in the master branch.\n",
    "\n",
    "20. git merge login (it will show all the files now, even in the maste rsince all the files have been merged)"
   ]
  },
  {
   "cell_type": "markdown",
   "metadata": {},
   "source": [
    "<h3> Connecting it with github</h3>\n",
    "\n",
    "Create an account in githib.com. You should remember your password and username. We can create a repository manually in the website. It takes us to a page with all the instructions we need. github is a remote repository and we want to add our local repository into the remote repository. \n",
    "\n",
    "21. git remote (displays all the remote repositories we have)\n",
    "22. git remote add origin https://github.com/ashutoshnayakIE/myAppSample.git (copy this from the page)\n",
    "23. Now the git remote command shows \"origin\" as the master\n",
    "24. git push -u origin master (again copy this from the page, it takes you to the login page of github, it will push all of our files into the online remote repository of github.com, check by reloading)"
   ]
  },
  {
   "cell_type": "markdown",
   "metadata": {},
   "source": [
    "<h3> Creating and editing files locally to upload on github </h3>\n",
    "\n",
    "Now that we have connected it to github, we want to be able to load the changes to the remote repository. First we have to make changes locally and then we can push the files on to the remote repository.\n",
    "25. git push (should push the readme file onto the github)"
   ]
  },
  {
   "cell_type": "markdown",
   "metadata": {},
   "source": [
    "<h3> Cloning and working with existing repository</h3>\n",
    "\n",
    "We can only clone the folders of an existing public repository. And then we can work on this on local and reproduce results.\n",
    "\n",
    "25. git clone https://github.com/ashutoshnayakIE/myAppSample.git (link at the top right of the repository when cloning). Git clone is used once when we download (clone) the repository we would like to clone. It does not update the existing repository\n",
    "26. git pull (The git pull command is used to fetch and download content from a remote repository and immediately update the local repository to match that content). Git Pull is used to update the current local repository (we use it more when working in a team)"
   ]
  },
  {
   "cell_type": "markdown",
   "metadata": {},
   "source": [
    "<h1><center>Tips on Using Jupyter notebook</center></h1>"
   ]
  },
  {
   "cell_type": "markdown",
   "metadata": {},
   "source": [
    " Keyboard shortcuts: \n",
    "<ul>\n",
    "    <li> Switching to text: Ecs then M then Enter </li>\n",
    "    <li> Adding line number to the code: Ctrl+m then L (or do it by selecting nbExtensions)</li>\n",
    "</ul>"
   ]
  },
  {
   "cell_type": "markdown",
   "metadata": {},
   "source": [
    "collapsing cells in jupyter notebook\n",
    "\n"
   ]
  },
  {
   "cell_type": "markdown",
   "metadata": {},
   "source": [
    "Changing the jupyter notebook theme:\n",
    "1. pip install jupyterthemes (installs themes)\n",
    "2. jt -l (list of themes)\n",
    "3. jt-t nameOfTheme (changes to this theme)"
   ]
  },
  {
   "cell_type": "markdown",
   "metadata": {},
   "source": [
    "Magic: cells that start with % are called magic cells.\n",
    "\n",
    "1. %lsmagic (throws the list of all the cells)\n",
    "2. %%dot helps in making graphs\n",
    "3. more here https://www.youtube.com/watch?v=zxkdO07L29Q"
   ]
  }
 ],
 "metadata": {
  "hide_input": false,
  "kernelspec": {
   "display_name": "Python 3",
   "language": "python",
   "name": "python3"
  },
  "language_info": {
   "codemirror_mode": {
    "name": "ipython",
    "version": 3
   },
   "file_extension": ".py",
   "mimetype": "text/x-python",
   "name": "python",
   "nbconvert_exporter": "python",
   "pygments_lexer": "ipython3",
   "version": "3.7.3"
  },
  "toc": {
   "base_numbering": 1,
   "nav_menu": {},
   "number_sections": true,
   "sideBar": true,
   "skip_h1_title": true,
   "title_cell": "Table of Contents",
   "title_sidebar": "Contents",
   "toc_cell": false,
   "toc_position": {
    "height": "calc(100% - 180px)",
    "left": "10px",
    "top": "150px",
    "width": "384px"
   },
   "toc_section_display": true,
   "toc_window_display": true
  },
  "varInspector": {
   "cols": {
    "lenName": 16,
    "lenType": 16,
    "lenVar": 40
   },
   "kernels_config": {
    "python": {
     "delete_cmd_postfix": "",
     "delete_cmd_prefix": "del ",
     "library": "var_list.py",
     "varRefreshCmd": "print(var_dic_list())"
    },
    "r": {
     "delete_cmd_postfix": ") ",
     "delete_cmd_prefix": "rm(",
     "library": "var_list.r",
     "varRefreshCmd": "cat(var_dic_list()) "
    }
   },
   "types_to_exclude": [
    "module",
    "function",
    "builtin_function_or_method",
    "instance",
    "_Feature"
   ],
   "window_display": false
  }
 },
 "nbformat": 4,
 "nbformat_minor": 2
}
